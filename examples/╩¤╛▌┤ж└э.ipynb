{
 "cells": [
  {
   "cell_type": "code",
   "execution_count": 2,
   "metadata": {},
   "outputs": [],
   "source": [
    "import pandas as pd\n",
    "import numpy as np\n",
    "from tqdm import tqdm"
   ]
  },
  {
   "cell_type": "code",
   "execution_count": 2,
   "metadata": {},
   "outputs": [
    {
     "ename": "NameError",
     "evalue": "name 'pd' is not defined",
     "output_type": "error",
     "traceback": [
      "\u001b[0;31m-----------------------------------------------------------------\u001b[0m",
      "\u001b[0;31mNameError\u001b[0m                       Traceback (most recent call last)",
      "\u001b[0;32m<ipython-input-2-e18c0ca6f0a2>\u001b[0m in \u001b[0;36m<module>\u001b[0;34m()\u001b[0m\n\u001b[0;32m----> 1\u001b[0;31m \u001b[0mpd\u001b[0m\u001b[0;34m.\u001b[0m\u001b[0moptions\u001b[0m\u001b[0;34m.\u001b[0m\u001b[0mdisplay\u001b[0m\u001b[0;34m.\u001b[0m\u001b[0mmax_rows\u001b[0m \u001b[0;34m=\u001b[0m \u001b[0;36m10\u001b[0m\u001b[0;34m\u001b[0m\u001b[0m\n\u001b[0m",
      "\u001b[0;31mNameError\u001b[0m: name 'pd' is not defined"
     ]
    }
   ],
   "source": [
    "pd.options.display.max_rows = 10"
   ]
  },
  {
   "cell_type": "code",
   "execution_count": null,
   "metadata": {},
   "outputs": [],
   "source": [
    "unames =['user_id','gender','age','occupation','zip']\n",
    "users = pd.read_table('datasets/movielens/users.dat', sep='::',\n",
    "                      header=None, names=unames)\n"
   ]
  },
  {
   "cell_type": "code",
   "execution_count": 86,
   "metadata": {},
   "outputs": [],
   "source": [
    "x = int(1e6)"
   ]
  },
  {
   "cell_type": "code",
   "execution_count": 90,
   "metadata": {},
   "outputs": [
    {
     "name": "stderr",
     "output_type": "stream",
     "text": [
      "100%|██████████| 1000000/1000000 [00:01<00:00, 679005.96it/s]\n"
     ]
    }
   ],
   "source": [
    "res = []\n",
    "for i in tqdm(range(x)):\n",
    "    res.append(i)\n",
    "    res.append(i)\n",
    "    res.append(i)\n",
    "    res.append(i)\n",
    "    res.append(i)\n",
    "    res.append(i)"
   ]
  },
  {
   "cell_type": "code",
   "execution_count": 14,
   "metadata": {},
   "outputs": [],
   "source": [
    "SIZE = 1000000\n",
    "arr = np.ones((SIZE,2), dtype=np.uint32)\n",
    "df = pd.DataFrame(arr)"
   ]
  },
  {
   "cell_type": "code",
   "execution_count": 3,
   "metadata": {},
   "outputs": [],
   "source": [
    "import datetime"
   ]
  },
  {
   "cell_type": "code",
   "execution_count": 95,
   "metadata": {},
   "outputs": [
    {
     "name": "stdout",
     "output_type": "stream",
     "text": [
      "0:00:07.880109\n"
     ]
    }
   ],
   "source": [
    "import datetime\n",
    "starttime = datetime.datetime.now()\n",
    "#long running\n",
    "#do something other\n",
    "arr[range(SIZE),1]+=1\n",
    "endtime = datetime.datetime.now()\n",
    "print((endtime - starttime))\n"
   ]
  },
  {
   "cell_type": "code",
   "execution_count": 97,
   "metadata": {},
   "outputs": [
    {
     "name": "stdout",
     "output_type": "stream",
     "text": [
      "0:00:17.330584\n"
     ]
    }
   ],
   "source": [
    "import datetime\n",
    "starttime = datetime.datetime.now()\n",
    "#long running\n",
    "#do something other\n",
    "df.iloc[range(SIZE),1]+=1\n",
    "endtime = datetime.datetime.now()\n",
    "print((endtime - starttime))"
   ]
  },
  {
   "cell_type": "code",
   "execution_count": 35,
   "metadata": {},
   "outputs": [
    {
     "name": "stderr",
     "output_type": "stream",
     "text": [
      "\n",
      "  0%|          | 0/1000000 [00:00<?, ?it/s]\u001b[A\n",
      "  6%|▌         | 61857/1000000 [00:00<00:01, 618567.64it/s]\u001b[A\n",
      " 13%|█▎        | 131535/1000000 [00:00<00:01, 640123.22it/s]\u001b[A\n",
      " 21%|██        | 211349/1000000 [00:00<00:01, 680543.03it/s]\u001b[A\n",
      " 31%|███       | 307167/1000000 [00:00<00:00, 745330.53it/s]\u001b[A\n",
      " 41%|████      | 410206/1000000 [00:00<00:00, 812788.12it/s]\u001b[A\n",
      " 52%|█████▏    | 516389/1000000 [00:00<00:00, 874304.26it/s]\u001b[A\n",
      " 63%|██████▎   | 628387/1000000 [00:00<00:00, 935890.14it/s]\u001b[A\n",
      " 75%|███████▌  | 750466/1000000 [00:00<00:00, 1006343.16it/s]\u001b[A\n",
      " 88%|████████▊ | 875470/1000000 [00:00<00:00, 1068852.56it/s]\u001b[A\n",
      "100%|██████████| 1000000/1000000 [00:00<00:00, 1003378.32it/s]\u001b[A"
     ]
    },
    {
     "name": "stdout",
     "output_type": "stream",
     "text": [
      "0:00:01.000558\n"
     ]
    }
   ],
   "source": [
    "import datetime\n",
    "starttime = datetime.datetime.now()\n",
    "#long running\n",
    "#do something other\n",
    "for i in tqdm(range(1000000)):\n",
    "    b =[]\n",
    "    b.append(1)\n",
    "    b.append(2)\n",
    "    \n",
    "endtime = datetime.datetime.now()\n",
    "print((endtime - starttime))"
   ]
  },
  {
   "cell_type": "code",
   "execution_count": 15,
   "metadata": {},
   "outputs": [
    {
     "name": "stderr",
     "output_type": "stream",
     "text": [
      "\n",
      "  0%|          | 0/100 [00:00<?, ?it/s]\u001b[A\n",
      "  1%|          | 1/100 [00:00<00:10,  9.41it/s]\u001b[A\n",
      "  3%|▎         | 3/100 [00:00<00:10,  9.56it/s]\u001b[A\n",
      "  5%|▌         | 5/100 [00:00<00:08, 11.23it/s]\u001b[A\n",
      "  7%|▋         | 7/100 [00:00<00:07, 12.14it/s]\u001b[A\n",
      "  9%|▉         | 9/100 [00:00<00:07, 11.49it/s]\u001b[A\n",
      " 11%|█         | 11/100 [00:00<00:08, 10.81it/s]\u001b[A\n",
      " 14%|█▍        | 14/100 [00:01<00:06, 13.08it/s]\u001b[A\n",
      " 16%|█▌        | 16/100 [00:01<00:05, 14.04it/s]\u001b[A\n",
      " 18%|█▊        | 18/100 [00:01<00:06, 12.22it/s]\u001b[A\n",
      " 20%|██        | 20/100 [00:01<00:06, 12.85it/s]\u001b[A\n",
      " 22%|██▏       | 22/100 [00:01<00:05, 13.85it/s]\u001b[A\n",
      " 24%|██▍       | 24/100 [00:01<00:06, 12.41it/s]\u001b[A\n",
      " 26%|██▌       | 26/100 [00:02<00:06, 11.94it/s]\u001b[A\n",
      " 29%|██▉       | 29/100 [00:02<00:04, 14.54it/s]\u001b[A\n",
      " 31%|███       | 31/100 [00:02<00:05, 12.65it/s]\u001b[A\n",
      " 33%|███▎      | 33/100 [00:02<00:05, 11.45it/s]\u001b[A\n",
      " 36%|███▌      | 36/100 [00:02<00:04, 13.88it/s]\u001b[A\n",
      " 38%|███▊      | 38/100 [00:02<00:04, 12.75it/s]\u001b[A\n",
      " 40%|████      | 40/100 [00:03<00:05, 11.99it/s]\u001b[A\n",
      " 42%|████▏     | 42/100 [00:03<00:04, 11.84it/s]\u001b[A\n",
      " 44%|████▍     | 44/100 [00:03<00:04, 13.11it/s]\u001b[A\n",
      " 46%|████▌     | 46/100 [00:03<00:04, 12.72it/s]\u001b[A\n",
      " 48%|████▊     | 48/100 [00:03<00:04, 11.93it/s]\u001b[A\n",
      " 52%|█████▏    | 52/100 [00:03<00:03, 14.21it/s]\u001b[A\n",
      " 54%|█████▍    | 54/100 [00:04<00:03, 13.10it/s]\u001b[A\n",
      " 56%|█████▌    | 56/100 [00:04<00:03, 11.68it/s]\u001b[A\n",
      " 58%|█████▊    | 58/100 [00:04<00:03, 12.65it/s]\u001b[A\n",
      " 60%|██████    | 60/100 [00:04<00:02, 14.06it/s]\u001b[A\n",
      " 62%|██████▏   | 62/100 [00:04<00:03, 12.26it/s]\u001b[A\n",
      " 64%|██████▍   | 64/100 [00:04<00:03, 11.44it/s]\u001b[A\n",
      " 67%|██████▋   | 67/100 [00:05<00:02, 13.74it/s]\u001b[A\n",
      " 69%|██████▉   | 69/100 [00:05<00:02, 13.66it/s]\u001b[A\n",
      " 71%|███████   | 71/100 [00:05<00:02, 13.14it/s]\u001b[A\n",
      " 73%|███████▎  | 73/100 [00:05<00:02, 12.10it/s]\u001b[A\n",
      " 76%|███████▌  | 76/100 [00:05<00:01, 14.55it/s]\u001b[A\n",
      " 78%|███████▊  | 78/100 [00:05<00:01, 13.50it/s]\u001b[A\n",
      " 80%|████████  | 80/100 [00:06<00:01, 11.99it/s]\u001b[A\n",
      " 84%|████████▍ | 84/100 [00:06<00:01, 14.35it/s]\u001b[A\n",
      " 86%|████████▌ | 86/100 [00:06<00:01, 13.12it/s]\u001b[A\n",
      " 88%|████████▊ | 88/100 [00:06<00:00, 12.38it/s]\u001b[A\n",
      " 90%|█████████ | 90/100 [00:06<00:00, 12.64it/s]\u001b[A\n",
      " 92%|█████████▏| 92/100 [00:06<00:00, 12.65it/s]\u001b[A\n",
      " 94%|█████████▍| 94/100 [00:07<00:00, 11.55it/s]\u001b[A\n",
      " 96%|█████████▌| 96/100 [00:07<00:00, 11.18it/s]\u001b[A\n",
      " 98%|█████████▊| 98/100 [00:07<00:00, 12.29it/s]\u001b[A\n",
      "100%|██████████| 100/100 [00:07<00:00, 12.49it/s]\u001b[A"
     ]
    },
    {
     "name": "stdout",
     "output_type": "stream",
     "text": [
      "0:00:07.518873\n"
     ]
    }
   ],
   "source": [
    "import datetime\n",
    "starttime = datetime.datetime.now()\n",
    "#long running\n",
    "#do something other\n",
    "for i in tqdm(range(100)):\n",
    "    df.iloc[i,1]+=1\n",
    "endtime = datetime.datetime.now()\n",
    "print((endtime - starttime))"
   ]
  },
  {
   "cell_type": "code",
   "execution_count": null,
   "metadata": {},
   "outputs": [],
   "source": []
  },
  {
   "cell_type": "code",
   "execution_count": null,
   "metadata": {},
   "outputs": [],
   "source": []
  },
  {
   "cell_type": "code",
   "execution_count": null,
   "metadata": {},
   "outputs": [],
   "source": []
  },
  {
   "cell_type": "code",
   "execution_count": 62,
   "metadata": {},
   "outputs": [
    {
     "data": {
      "text/plain": [
       "200"
      ]
     },
     "execution_count": 62,
     "metadata": {},
     "output_type": "execute_result"
    }
   ],
   "source": [
    "data = pd.read_csv('sample.txt')\n",
    "len(data)"
   ]
  },
  {
   "cell_type": "code",
   "execution_count": 63,
   "metadata": {},
   "outputs": [],
   "source": [
    "#We label the samples with rating of 4\n",
    "#and 5 to be positive and the rest to be negative\n",
    "for i in range(len(data)):\n",
    "    if(data.iloc[i]['rating']>=4):\n",
    "        data.loc[i,'rating'] = 1\n",
    "    else:\n",
    "        data.loc[i,'rating'] = 0"
   ]
  },
  {
   "cell_type": "code",
   "execution_count": 75,
   "metadata": {},
   "outputs": [],
   "source": [
    "#按id,时间先后排序\n",
    "data = data.sort_values(by=['user_id','timestamp'],ascending = [True,True])"
   ]
  },
  {
   "cell_type": "code",
   "execution_count": 81,
   "metadata": {},
   "outputs": [],
   "source": [
    "user_num = max(data['user_id'])\n",
    "margin = int(user_num*0.7)"
   ]
  },
  {
   "cell_type": "code",
   "execution_count": 82,
   "metadata": {},
   "outputs": [
    {
     "data": {
      "text/plain": [
       "(6040, 4228)"
      ]
     },
     "execution_count": 82,
     "metadata": {},
     "output_type": "execute_result"
    }
   ],
   "source": [
    "user_num,margin"
   ]
  },
  {
   "cell_type": "code",
   "execution_count": 8,
   "metadata": {},
   "outputs": [],
   "source": [
    "train_uid"
   ]
  },
  {
   "cell_type": "code",
   "execution_count": 9,
   "metadata": {},
   "outputs": [
    {
     "data": {
      "text/plain": [
       "2"
      ]
     },
     "execution_count": 9,
     "metadata": {},
     "output_type": "execute_result"
    }
   ],
   "source": [
    "max_len"
   ]
  },
  {
   "cell_type": "code",
   "execution_count": 10,
   "metadata": {},
   "outputs": [],
   "source": [
    "from torch.nn.utils.rnn import pad_sequence"
   ]
  },
  {
   "cell_type": "code",
   "execution_count": 11,
   "metadata": {},
   "outputs": [],
   "source": [
    "  uid = data['user_id'].unique()"
   ]
  },
  {
   "cell_type": "code",
   "execution_count": 31,
   "metadata": {},
   "outputs": [],
   "source": [
    "        user_index_list =[]\n",
    "        uid = []\n",
    "        ugender = []\n",
    "        uoccupation = []\n",
    "        uzip = []\n",
    "        uage = []\n",
    "        hist_iid = []\n",
    "        this_user = []\n",
    "        behavior_len = []\n",
    "        end = False\n",
    "        for i in range(len(data)):\n",
    "            if data.iloc[i]['user_id'] not in uid:\n",
    "                this_user.append(data.iloc[i]['movie_id'])\n",
    "                end = True\n",
    "                #print(data.iloc[i]['user_id'])\n",
    "                user_index_list.append(i)\n",
    "                uid.append(data.iloc[i]['user_id'])\n",
    "                uoccupation.append(data.iloc[i]['occupation'])\n",
    "                uzip.append(data.iloc[i]['zip'])\n",
    "                uage.append(data.iloc[i]['age'])\n",
    "                ugender.append(data.iloc[i]['gender'])\n",
    "\n",
    "            else: \n",
    "                this_user.append(data.iloc[i]['movie_id'])\n",
    "                end = False\n",
    "\n",
    "            if(end): \n",
    "                \n",
    "                hist_iid.append(this_user)\n",
    "                behavior_len.append(len(this_user))\n",
    "                this_user = []\n",
    "\n",
    "\n",
    "    "
   ]
  },
  {
   "cell_type": "code",
   "execution_count": 41,
   "metadata": {},
   "outputs": [
    {
     "data": {
      "text/plain": [
       "142"
      ]
     },
     "execution_count": 41,
     "metadata": {},
     "output_type": "execute_result"
    }
   ],
   "source": [
    "len(uid)"
   ]
  },
  {
   "cell_type": "code",
   "execution_count": 70,
   "metadata": {},
   "outputs": [
    {
     "data": {
      "text/plain": [
       "False"
      ]
     },
     "execution_count": 70,
     "metadata": {},
     "output_type": "execute_result"
    }
   ],
   "source": [
    "4 not in b"
   ]
  },
  {
   "cell_type": "code",
   "execution_count": 16,
   "metadata": {},
   "outputs": [],
   "source": [
    "a = np.ones((10,5))"
   ]
  },
  {
   "cell_type": "code",
   "execution_count": 17,
   "metadata": {},
   "outputs": [
    {
     "data": {
      "text/plain": [
       "array([[1., 1., 1., 1., 1.],\n",
       "       [1., 1., 1., 1., 1.],\n",
       "       [1., 1., 1., 1., 1.],\n",
       "       [1., 1., 1., 1., 1.],\n",
       "       [1., 1., 1., 1., 1.],\n",
       "       [1., 1., 1., 1., 1.],\n",
       "       [1., 1., 1., 1., 1.],\n",
       "       [1., 1., 1., 1., 1.],\n",
       "       [1., 1., 1., 1., 1.],\n",
       "       [1., 1., 1., 1., 1.]])"
      ]
     },
     "execution_count": 17,
     "metadata": {},
     "output_type": "execute_result"
    }
   ],
   "source": [
    "a"
   ]
  },
  {
   "cell_type": "code",
   "execution_count": 20,
   "metadata": {},
   "outputs": [],
   "source": [
    "a = np.array([[1,2,3],\n",
    "              [1,3,4],\n",
    "              [1,5,6],\n",
    "              [2,3,4],\n",
    "              [4,5,6],\n",
    "              [6,7,8]])"
   ]
  },
  {
   "cell_type": "code",
   "execution_count": 26,
   "metadata": {},
   "outputs": [
    {
     "data": {
      "text/plain": [
       "array([3, 3, 4, 5, 6, 3, 4, 4, 5, 6, 6, 7, 8])"
      ]
     },
     "execution_count": 26,
     "metadata": {},
     "output_type": "execute_result"
    }
   ],
   "source": [
    "a["
   ]
  },
  {
   "cell_type": "code",
   "execution_count": 30,
   "metadata": {},
   "outputs": [
    {
     "data": {
      "text/plain": [
       "array([[1, 3, 4]])"
      ]
     },
     "execution_count": 30,
     "metadata": {},
     "output_type": "execute_result"
    }
   ],
   "source": [
    "a[1:2,]"
   ]
  },
  {
   "cell_type": "code",
   "execution_count": null,
   "metadata": {},
   "outputs": [],
   "source": [
    "for i in tqdm(range(1000)):\n",
    "    i = 1"
   ]
  },
  {
   "cell_type": "code",
   "execution_count": null,
   "metadata": {},
   "outputs": [
    {
     "ename": "Error",
     "evalue": "Jupyter cannot be started. Error attempting to locate jupyter: Data Science libraries jupyter and notebook are not installed in interpreter Python 2.7.12 64-bit.",
     "output_type": "error",
     "traceback": [
      "Error: Jupyter cannot be started. Error attempting to locate jupyter: Data Science libraries jupyter and notebook are not installed in interpreter Python 2.7.12 64-bit.",
      "at S.startServer (/home/zhangshengyu/.vscode-server/extensions/ms-toolsai.jupyter-2021.3.684299474/out/client/extension.js:49:381647)",
      "at runMicrotasks (<anonymous>)",
      "at processTicksAndRejections (internal/process/task_queues.js:97:5)",
      "at async S.createServer (/home/zhangshengyu/.vscode-server/extensions/ms-toolsai.jupyter-2021.3.684299474/out/client/extension.js:49:380942)",
      "at async connect (/home/zhangshengyu/.vscode-server/extensions/ms-toolsai.jupyter-2021.3.684299474/out/client/extension.js:49:494147)",
      "at async T.ensureConnectionAndNotebookImpl (/home/zhangshengyu/.vscode-server/extensions/ms-toolsai.jupyter-2021.3.684299474/out/client/extension.js:32:615097)",
      "at async T.ensureConnectionAndNotebook (/home/zhangshengyu/.vscode-server/extensions/ms-toolsai.jupyter-2021.3.684299474/out/client/extension.js:32:613351)",
      "at async T.clearResult (/home/zhangshengyu/.vscode-server/extensions/ms-toolsai.jupyter-2021.3.684299474/out/client/extension.js:32:609013)",
      "at async T.reexecuteCell (/home/zhangshengyu/.vscode-server/extensions/ms-toolsai.jupyter-2021.3.684299474/out/client/extension.js:32:595280)",
      "at async T.reexecuteCells (/home/zhangshengyu/.vscode-server/extensions/ms-toolsai.jupyter-2021.3.684299474/out/client/extension.js:32:591484)"
     ]
    }
   ],
   "source": [
    "class TheModelClass(nn.Module):\n",
    "    def __init__(self):\n",
    "        super(TheModelClass, self).__init__()\n",
    "        self.conv1 = nn.Conv2d()"
   ]
  },
  {
   "cell_type": "code",
   "execution_count": 1,
   "metadata": {},
   "outputs": [],
   "source": [
    "import pandas as pd"
   ]
  },
  {
   "cell_type": "code",
   "execution_count": 11,
   "metadata": {},
   "outputs": [],
   "source": [
    "d = {'col1': [1, 2], 'rating': [0, 1]}\n",
    "data = pd.DataFrame(d)"
   ]
  },
  {
   "cell_type": "code",
   "execution_count": 12,
   "metadata": {},
   "outputs": [],
   "source": [
    "data = data.loc[data['rating']==1]"
   ]
  },
  {
   "cell_type": "code",
   "execution_count": 13,
   "metadata": {},
   "outputs": [
    {
     "data": {
      "text/html": [
       "<div>\n",
       "<style scoped>\n",
       "    .dataframe tbody tr th:only-of-type {\n",
       "        vertical-align: middle;\n",
       "    }\n",
       "\n",
       "    .dataframe tbody tr th {\n",
       "        vertical-align: top;\n",
       "    }\n",
       "\n",
       "    .dataframe thead th {\n",
       "        text-align: right;\n",
       "    }\n",
       "</style>\n",
       "<table border=\"1\" class=\"dataframe\">\n",
       "  <thead>\n",
       "    <tr style=\"text-align: right;\">\n",
       "      <th></th>\n",
       "      <th>col1</th>\n",
       "      <th>rating</th>\n",
       "    </tr>\n",
       "  </thead>\n",
       "  <tbody>\n",
       "    <tr>\n",
       "      <th>1</th>\n",
       "      <td>2</td>\n",
       "      <td>1</td>\n",
       "    </tr>\n",
       "  </tbody>\n",
       "</table>\n",
       "</div>"
      ],
      "text/plain": [
       "   col1  rating\n",
       "1     2       1"
      ]
     },
     "execution_count": 13,
     "metadata": {},
     "output_type": "execute_result"
    }
   ],
   "source": [
    "data"
   ]
  },
  {
   "cell_type": "code",
   "execution_count": 2,
   "metadata": {},
   "outputs": [
    {
     "name": "stdout",
     "output_type": "stream",
     "text": [
      "[proxychains] config file found: /home/zhangshengyu/config/proxychains.conf\n",
      "[proxychains] preloading /home/zhangshengyu/software/proxychains4/lib/libproxychains4.so\n",
      "Looking in indexes: https://pypi.tuna.tsinghua.edu.cn/simple\n",
      "Requirement already satisfied: pymysql in /home/zhangshengyu/software/anaconda3/envs/deviceCloud/lib/python3.9/site-packages (1.0.2)\n"
     ]
    }
   ],
   "source": [
    "!proxychains4 pip install pymysql\n",
    "\n"
   ]
  },
  {
   "cell_type": "code",
   "execution_count": 3,
   "metadata": {
    "scrolled": true
   },
   "outputs": [
    {
     "ename": "ModuleNotFoundError",
     "evalue": "No module named 'pymysql'",
     "output_type": "error",
     "traceback": [
      "\u001b[0;31m-----------------------------------------------------------------\u001b[0m",
      "\u001b[0;31mModuleNotFoundError\u001b[0m             Traceback (most recent call last)",
      "\u001b[0;32m<ipython-input-3-8748c87b3097>\u001b[0m in \u001b[0;36m<module>\u001b[0;34m()\u001b[0m\n\u001b[0;32m----> 1\u001b[0;31m \u001b[0;32mimport\u001b[0m \u001b[0mpymysql\u001b[0m\u001b[0;34m\u001b[0m\u001b[0m\n\u001b[0m",
      "\u001b[0;31mModuleNotFoundError\u001b[0m: No module named 'pymysql'"
     ]
    }
   ],
   "source": [
    "import pymysql"
   ]
  },
  {
   "cell_type": "code",
   "execution_count": null,
   "metadata": {},
   "outputs": [],
   "source": []
  }
 ],
 "metadata": {
  "kernelspec": {
   "display_name": "deviceCloud",
   "language": "python",
   "name": "devicecloud"
  },
  "language_info": {
   "codemirror_mode": {
    "name": "ipython",
    "version": 3
   },
   "file_extension": ".py",
   "mimetype": "text/x-python",
   "name": "python",
   "nbconvert_exporter": "python",
   "pygments_lexer": "ipython3",
   "version": "3.7.0"
  }
 },
 "nbformat": 4,
 "nbformat_minor": 4
}
